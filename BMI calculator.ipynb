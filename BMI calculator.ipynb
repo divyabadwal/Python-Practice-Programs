{
 "cells": [
  {
   "cell_type": "markdown",
   "id": "63405700-ec16-48aa-8170-64eef43add09",
   "metadata": {},
   "source": [
    "# BMI Calculator in Python"
   ]
  },
  {
   "cell_type": "code",
   "execution_count": 3,
   "id": "cbd41254-70a7-4c79-b708-d56c7734b3ce",
   "metadata": {},
   "outputs": [
    {
     "name": "stdin",
     "output_type": "stream",
     "text": [
      "Enter your name:  Divya\n",
      "Enter your weight in pounds:  99\n",
      "Enter your height in inches:  63\n"
     ]
    },
    {
     "name": "stdout",
     "output_type": "stream",
     "text": [
      "17.53514739229025\n",
      "Divya you are underweight. Eat more!\n"
     ]
    }
   ],
   "source": [
    "name=input(\"Enter your name: \")\n",
    "\n",
    "weight=int(input(\"Enter your weight in pounds: \"))\n",
    "\n",
    "height=int(input(\"Enter your height in inches: \"))\n",
    "\n",
    "BMI=(weight*703)/(height*height)\n",
    "\n",
    "print(BMI)\n",
    "\n",
    "if BMI > 0:\n",
    "    if BMI<18.5:\n",
    "        print(name+\" you are underweight. Eat more!\")\n",
    "    elif BMI<24.9:\n",
    "        print(name+\" you are normal weight. Good Job!\")\n",
    "    elif BMI<29.9:\n",
    "        print(name+\" you are overweight. Walk More!\")\n",
    "    elif BMI<34.9:\n",
    "        print(name+\" you are obese. Go to Gym!\")\n",
    "    elif BMI<39.9:\n",
    "        print(name+\" you are severely obese. Go to Hospital!\")\n",
    "    else:\n",
    "        print(name+\" WHAT ARE YOU? AN ELEPHANT???\")\n",
    "else:\n",
    "    print(\"Enter a valid input please\")\n",
    "\n"
   ]
  },
  {
   "cell_type": "code",
   "execution_count": null,
   "id": "9a2eae7f-bb8b-440a-acb7-46453edd1ee3",
   "metadata": {},
   "outputs": [],
   "source": []
  },
  {
   "cell_type": "code",
   "execution_count": null,
   "id": "7e64911c-e9d2-4f40-8ebb-dad214dc7245",
   "metadata": {},
   "outputs": [],
   "source": []
  },
  {
   "cell_type": "code",
   "execution_count": null,
   "id": "2068564e-6985-4648-acef-d9eebe83b8eb",
   "metadata": {},
   "outputs": [],
   "source": []
  },
  {
   "cell_type": "code",
   "execution_count": null,
   "id": "002b8baa-906b-4fbf-8fd9-c691dba70e23",
   "metadata": {},
   "outputs": [],
   "source": []
  },
  {
   "cell_type": "code",
   "execution_count": null,
   "id": "b5c7d699-bcf4-41c0-822b-d35b2e5c4488",
   "metadata": {},
   "outputs": [],
   "source": []
  }
 ],
 "metadata": {
  "kernelspec": {
   "display_name": "Python [conda env:base] *",
   "language": "python",
   "name": "conda-base-py"
  },
  "language_info": {
   "codemirror_mode": {
    "name": "ipython",
    "version": 3
   },
   "file_extension": ".py",
   "mimetype": "text/x-python",
   "name": "python",
   "nbconvert_exporter": "python",
   "pygments_lexer": "ipython3",
   "version": "3.12.7"
  }
 },
 "nbformat": 4,
 "nbformat_minor": 5
}
